{
 "cells": [
  {
   "cell_type": "markdown",
   "id": "3b301994",
   "metadata": {},
   "source": [
    "**Equilibrio**\n",
    "\n",
    "$\\sigma_{ij,j} = f_{i} = 0$\n",
    "\n",
    "$\\sigma_{ij}=\\sigma_{ji}$\n",
    "\n",
    "$t_{i}^{n} = \\sigma_{ij}n_{j}$ en $S_{t}$\n",
    "\n",
    "$\\sigma_{ij} = \\sigma_{ij}(x)$"
   ]
  },
  {
   "cell_type": "markdown",
   "id": "88a94e44",
   "metadata": {},
   "source": [
    "**En deformaciones:**\n",
    "\n",
    "Ilustracón con Bola de Pelos:\n",
    "\n",
    "1. Rotación\n",
    "2. Cambio de dirección\n",
    "3. Alargamiento\n"
   ]
  },
  {
   "cell_type": "markdown",
   "id": "c3235529",
   "metadata": {},
   "source": [
    "**Gradiente de desplazamiento**\n",
    "\n",
    "\n",
    "$u_{i,j} = \\omega_{i,j} \\varepsilon_{ij} = \\frac{1}{2} \\left( u_{i,j} - u_{j,i} \\right) + \\frac{1}{2} \\left( u_{i,j} + u_{j,i} \\right) $\n",
    "\n",
    "**Deformación por cortante**\n",
    "\n",
    "$\\Delta \\alpha = \\frac{\\pi}{2} - \\beta$\n",
    "\n",
    "\n",
    "$\\varepsilon =$\n",
    "\n",
    "$ \\begin{bmatrix}\n",
    "du/dx & 1/2 (du/dy + dv/dx) \\\\\n",
    "1/2(dv/dy + dv/dx) & dv/dy \n",
    "\\end{bmatrix} $\n",
    "\n",
    "$ \\begin{bmatrix}\n",
    "\\varepsilon_{xx} & \\psi_{xy}/2 \\\\\n",
    "\\psi_{xy}/2 & \\varepsilon_{yy}\n",
    "\\end{bmatrix} $\n",
    "\n"
   ]
  },
  {
   "cell_type": "markdown",
   "id": "fe64795a",
   "metadata": {},
   "source": [
    "**Equilibrio tensiones y deformaciones**\n",
    "\n",
    "$\\sigma_{ij,j} = f_{i} = 0$\n",
    "\n",
    "$\\sigma_{ij}=\\sigma_{ji}$\n",
    "\n",
    "$t_{i}^{n} = \\sigma_{ij}n_{j}$ en $S_{t}$\n",
    "\n",
    "$\\sigma_{ij} = \\sigma_{ij}(x)$\n",
    "\n",
    "$u_{i} = u_{i}(x)$\n",
    "\n",
    "$\\epsilon_{ij} = \\frac{1}{2} \\left( u_{i,j} + u_{j,i} \\right) $"
   ]
  },
  {
   "cell_type": "markdown",
   "id": "5fc7471f",
   "metadata": {},
   "source": [
    "**Consideraciones en un Medio**\n",
    "\n",
    "- Isotropía\n",
    "- Homogeneo\n"
   ]
  },
  {
   "cell_type": "markdown",
   "id": "861244b1",
   "metadata": {},
   "source": [
    "**Ley de Hooke (Generalizada)**\n",
    "\n",
    "$\\sigma_{ij} = C_{ijkl} \\epsilon_{kl} $\n",
    "\n",
    "$\\sigma_{ij} = 2 \\mu \\epsilon_{kl} + \\lambda \\epsilon_{kk} \\delta_{ij}  $\n",
    "\n",
    "$\\sigma_{ij} =  \\mu (u_{i,j} + u_{j,i}) + \\lambda u_{k,k} \\delta_{ij} $\n",
    "\n",
    "$\\sigma_{ij} =  \\mu (u_{i,jj} + u_{j,ij}) + \\lambda u_{k,kj} \\delta_{ij} $\n",
    "\n",
    "$\\sigma_{ij} =  (\\lambda+\\mu) u_{j,ij}  + \\mu \\lambda u_{k,kj} u_{i,jj}  $"
   ]
  },
  {
   "cell_type": "markdown",
   "id": "d2b30cb2",
   "metadata": {},
   "source": [
    "**Sistema de ecuaciones diferenciales completo**\n",
    "\n",
    "$\\sigma_{ij,j} + f_{i} = 0$ (i6,e3)\n",
    "\n",
    "$\\epsilon_{ij} = \\frac{1}{2} \\left( u_{i,j} + u_{j,i} \\right) $ (i(3+9),e6)\n",
    "\n",
    "$ (\\lambda+\\mu) u_{j,ij}  + \\mu \\lambda u_{k,kj} u_{i,jj} = 0 $ (3i,3e)\n",
    "\n",
    "$\\sigma_{ij} = C_{ijkl} \\epsilon_{kl} $ (i0,e6)"
   ]
  },
  {
   "cell_type": "markdown",
   "id": "84e6359d",
   "metadata": {},
   "source": [
    "**Condiciones de frontera**\n",
    "\n",
    "$u_{i}= \\overline{{u}}_{i}$ para $ x \\epsilon S_{u}$  (dirilech)\n",
    "\n",
    "$t_{i}= \\sigma_{ij}n_{j}$ (newmann)\n",
    "\n"
   ]
  },
  {
   "cell_type": "markdown",
   "id": "4ab3b64d",
   "metadata": {},
   "source": []
  }
 ],
 "metadata": {
  "kernelspec": {
   "display_name": "Python 3 (ipykernel)",
   "language": "python",
   "name": "python3"
  },
  "language_info": {
   "codemirror_mode": {
    "name": "ipython",
    "version": 3
   },
   "file_extension": ".py",
   "mimetype": "text/x-python",
   "name": "python",
   "nbconvert_exporter": "python",
   "pygments_lexer": "ipython3",
   "version": "3.10.12"
  },
  "toc": {
   "base_numbering": 1,
   "nav_menu": {},
   "number_sections": true,
   "sideBar": true,
   "skip_h1_title": false,
   "title_cell": "Table of Contents",
   "title_sidebar": "Contents",
   "toc_cell": false,
   "toc_position": {},
   "toc_section_display": true,
   "toc_window_display": false
  }
 },
 "nbformat": 4,
 "nbformat_minor": 5
}
